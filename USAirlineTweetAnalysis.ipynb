{
  "nbformat": 4,
  "nbformat_minor": 0,
  "metadata": {
    "colab": {
      "name": "USAirlineTweetAnalysis.ipynb",
      "provenance": [],
      "collapsed_sections": [],
      "authorship_tag": "ABX9TyO3vfwC9g14Q9m0yjaR+71T",
      "include_colab_link": true
    },
    "kernelspec": {
      "name": "python3",
      "display_name": "Python 3"
    },
    "language_info": {
      "name": "python"
    }
  },
  "cells": [
    {
      "cell_type": "markdown",
      "metadata": {
        "id": "view-in-github",
        "colab_type": "text"
      },
      "source": [
        "<a href=\"https://colab.research.google.com/github/sakshamchecker/USAirlineTweetML/blob/main/USAirlineTweetAnalysis.ipynb\" target=\"_parent\"><img src=\"https://colab.research.google.com/assets/colab-badge.svg\" alt=\"Open In Colab\"/></a>"
      ]
    },
    {
      "cell_type": "code",
      "metadata": {
        "id": "f_zSZK9uhlXl"
      },
      "source": [
        "import pandas as pd \n",
        "import numpy as np\n",
        "from nltk.tokenize import sent_tokenize, word_tokenize"
      ],
      "execution_count": 11,
      "outputs": []
    },
    {
      "cell_type": "code",
      "metadata": {
        "colab": {
          "base_uri": "https://localhost:8080/"
        },
        "id": "J5tBJKLNore8",
        "outputId": "5410db48-3313-4dd8-dc29-4b8d7949c209"
      },
      "source": [
        " import nltk\n",
        " nltk.download('punkt')\n",
        " nltk.download('stopwords')\n",
        " nltk.download('state_union')\n",
        " nltk.download('averaged_perceptron_tagger')\n",
        " nltk.download('wordnet')"
      ],
      "execution_count": 13,
      "outputs": [
        {
          "output_type": "stream",
          "text": [
            "[nltk_data] Downloading package punkt to /root/nltk_data...\n",
            "[nltk_data]   Unzipping tokenizers/punkt.zip.\n",
            "[nltk_data] Downloading package stopwords to /root/nltk_data...\n",
            "[nltk_data]   Unzipping corpora/stopwords.zip.\n",
            "[nltk_data] Downloading package state_union to /root/nltk_data...\n",
            "[nltk_data]   Unzipping corpora/state_union.zip.\n",
            "[nltk_data] Downloading package averaged_perceptron_tagger to\n",
            "[nltk_data]     /root/nltk_data...\n",
            "[nltk_data]   Unzipping taggers/averaged_perceptron_tagger.zip.\n",
            "[nltk_data] Downloading package wordnet to /root/nltk_data...\n",
            "[nltk_data]   Unzipping corpora/wordnet.zip.\n"
          ],
          "name": "stdout"
        },
        {
          "output_type": "execute_result",
          "data": {
            "text/plain": [
              "True"
            ]
          },
          "metadata": {
            "tags": []
          },
          "execution_count": 13
        }
      ]
    },
    {
      "cell_type": "code",
      "metadata": {
        "id": "iarpIRgGikwc"
      },
      "source": [
        "dataset=pd.read_csv(\"training_twitter_x_y_train.csv\")"
      ],
      "execution_count": 3,
      "outputs": []
    },
    {
      "cell_type": "code",
      "metadata": {
        "colab": {
          "base_uri": "https://localhost:8080/",
          "height": 479
        },
        "id": "QnJOlWMtir9u",
        "outputId": "83728759-beb1-404d-87b7-c5d147865a7c"
      },
      "source": [
        "dataset.head()"
      ],
      "execution_count": 4,
      "outputs": [
        {
          "output_type": "execute_result",
          "data": {
            "text/html": [
              "<div>\n",
              "<style scoped>\n",
              "    .dataframe tbody tr th:only-of-type {\n",
              "        vertical-align: middle;\n",
              "    }\n",
              "\n",
              "    .dataframe tbody tr th {\n",
              "        vertical-align: top;\n",
              "    }\n",
              "\n",
              "    .dataframe thead th {\n",
              "        text-align: right;\n",
              "    }\n",
              "</style>\n",
              "<table border=\"1\" class=\"dataframe\">\n",
              "  <thead>\n",
              "    <tr style=\"text-align: right;\">\n",
              "      <th></th>\n",
              "      <th>tweet_id</th>\n",
              "      <th>airline_sentiment</th>\n",
              "      <th>airline</th>\n",
              "      <th>airline_sentiment_gold</th>\n",
              "      <th>name</th>\n",
              "      <th>negativereason_gold</th>\n",
              "      <th>retweet_count</th>\n",
              "      <th>text</th>\n",
              "      <th>tweet_coord</th>\n",
              "      <th>tweet_created</th>\n",
              "      <th>tweet_location</th>\n",
              "      <th>user_timezone</th>\n",
              "    </tr>\n",
              "  </thead>\n",
              "  <tbody>\n",
              "    <tr>\n",
              "      <th>0</th>\n",
              "      <td>567900433542488064</td>\n",
              "      <td>negative</td>\n",
              "      <td>Southwest</td>\n",
              "      <td>NaN</td>\n",
              "      <td>ColeyGirouard</td>\n",
              "      <td>NaN</td>\n",
              "      <td>0</td>\n",
              "      <td>@SouthwestAir I am scheduled for the morning, ...</td>\n",
              "      <td>NaN</td>\n",
              "      <td>2015-02-17 20:16:29 -0800</td>\n",
              "      <td>Washington D.C.</td>\n",
              "      <td>Atlantic Time (Canada)</td>\n",
              "    </tr>\n",
              "    <tr>\n",
              "      <th>1</th>\n",
              "      <td>569989168903819264</td>\n",
              "      <td>positive</td>\n",
              "      <td>Southwest</td>\n",
              "      <td>NaN</td>\n",
              "      <td>WalterFaddoul</td>\n",
              "      <td>NaN</td>\n",
              "      <td>0</td>\n",
              "      <td>@SouthwestAir seeing your workers time in and ...</td>\n",
              "      <td>NaN</td>\n",
              "      <td>2015-02-23 14:36:22 -0800</td>\n",
              "      <td>Indianapolis, Indiana; USA</td>\n",
              "      <td>Central Time (US &amp; Canada)</td>\n",
              "    </tr>\n",
              "    <tr>\n",
              "      <th>2</th>\n",
              "      <td>568089179520954368</td>\n",
              "      <td>positive</td>\n",
              "      <td>United</td>\n",
              "      <td>NaN</td>\n",
              "      <td>LocalKyle</td>\n",
              "      <td>NaN</td>\n",
              "      <td>0</td>\n",
              "      <td>@united Flew ORD to Miami and back and  had gr...</td>\n",
              "      <td>NaN</td>\n",
              "      <td>2015-02-18 08:46:29 -0800</td>\n",
              "      <td>Illinois</td>\n",
              "      <td>Central Time (US &amp; Canada)</td>\n",
              "    </tr>\n",
              "    <tr>\n",
              "      <th>3</th>\n",
              "      <td>568928195581513728</td>\n",
              "      <td>negative</td>\n",
              "      <td>Southwest</td>\n",
              "      <td>NaN</td>\n",
              "      <td>amccarthy19</td>\n",
              "      <td>NaN</td>\n",
              "      <td>0</td>\n",
              "      <td>@SouthwestAir @dultch97 that's horse radish 😤🐴</td>\n",
              "      <td>NaN</td>\n",
              "      <td>2015-02-20 16:20:26 -0800</td>\n",
              "      <td>NaN</td>\n",
              "      <td>Atlantic Time (Canada)</td>\n",
              "    </tr>\n",
              "    <tr>\n",
              "      <th>4</th>\n",
              "      <td>568594180014014464</td>\n",
              "      <td>negative</td>\n",
              "      <td>United</td>\n",
              "      <td>NaN</td>\n",
              "      <td>J_Okayy</td>\n",
              "      <td>NaN</td>\n",
              "      <td>0</td>\n",
              "      <td>@united so our flight into ORD was delayed bec...</td>\n",
              "      <td>NaN</td>\n",
              "      <td>2015-02-19 18:13:11 -0800</td>\n",
              "      <td>NaN</td>\n",
              "      <td>Eastern Time (US &amp; Canada)</td>\n",
              "    </tr>\n",
              "  </tbody>\n",
              "</table>\n",
              "</div>"
            ],
            "text/plain": [
              "             tweet_id  ...               user_timezone\n",
              "0  567900433542488064  ...      Atlantic Time (Canada)\n",
              "1  569989168903819264  ...  Central Time (US & Canada)\n",
              "2  568089179520954368  ...  Central Time (US & Canada)\n",
              "3  568928195581513728  ...      Atlantic Time (Canada)\n",
              "4  568594180014014464  ...  Eastern Time (US & Canada)\n",
              "\n",
              "[5 rows x 12 columns]"
            ]
          },
          "metadata": {
            "tags": []
          },
          "execution_count": 4
        }
      ]
    },
    {
      "cell_type": "code",
      "metadata": {
        "colab": {
          "base_uri": "https://localhost:8080/"
        },
        "id": "kDiHzgG8i4co",
        "outputId": "59aa66f1-1f0a-4fa7-fedc-9fee56e3608d"
      },
      "source": [
        "tweets=[]\n",
        "len(dataset['text'][0].split())"
      ],
      "execution_count": 20,
      "outputs": [
        {
          "output_type": "execute_result",
          "data": {
            "text/plain": [
              "24"
            ]
          },
          "metadata": {
            "tags": []
          },
          "execution_count": 20
        }
      ]
    },
    {
      "cell_type": "code",
      "metadata": {
        "colab": {
          "base_uri": "https://localhost:8080/"
        },
        "id": "PY8bWXRwl_XP",
        "outputId": "39ee2f3c-06d5-4ca0-a5ae-01566de70537"
      },
      "source": [
        "word_tokenize(dataset['text'][0])"
      ],
      "execution_count": 14,
      "outputs": [
        {
          "output_type": "execute_result",
          "data": {
            "text/plain": [
              "['@',\n",
              " 'SouthwestAir',\n",
              " 'I',\n",
              " 'am',\n",
              " 'scheduled',\n",
              " 'for',\n",
              " 'the',\n",
              " 'morning',\n",
              " ',',\n",
              " '2',\n",
              " 'days',\n",
              " 'after',\n",
              " 'the',\n",
              " 'fact',\n",
              " ',',\n",
              " 'yes..not',\n",
              " 'sure',\n",
              " 'why',\n",
              " 'my',\n",
              " 'evening',\n",
              " 'flight',\n",
              " 'was',\n",
              " 'the',\n",
              " 'only',\n",
              " 'one',\n",
              " 'Cancelled',\n",
              " 'Flightled']"
            ]
          },
          "metadata": {
            "tags": []
          },
          "execution_count": 14
        }
      ]
    },
    {
      "cell_type": "code",
      "metadata": {
        "colab": {
          "base_uri": "https://localhost:8080/"
        },
        "id": "hDexnJwcnjOE",
        "outputId": "60f3a137-9803-4bd0-e56a-c5cd877f6b4a"
      },
      "source": [
        "dataset.shape[0]"
      ],
      "execution_count": 10,
      "outputs": [
        {
          "output_type": "execute_result",
          "data": {
            "text/plain": [
              "10980"
            ]
          },
          "metadata": {
            "tags": []
          },
          "execution_count": 10
        }
      ]
    },
    {
      "cell_type": "code",
      "metadata": {
        "id": "cRIRyEJDny2K"
      },
      "source": [
        "for i in range(dataset.shape[0]):\n",
        "  tweets.append((word_tokenize(dataset['text'][i]), dataset['airline_sentiment'][i]))"
      ],
      "execution_count": 21,
      "outputs": []
    },
    {
      "cell_type": "code",
      "metadata": {
        "colab": {
          "base_uri": "https://localhost:8080/"
        },
        "id": "vn3_s0HUpupP",
        "outputId": "77c1b16e-99cd-49b4-c4ae-2a44c993ddb5"
      },
      "source": [
        "tweets[0]"
      ],
      "execution_count": 22,
      "outputs": [
        {
          "output_type": "execute_result",
          "data": {
            "text/plain": [
              "(['@',\n",
              "  'SouthwestAir',\n",
              "  'I',\n",
              "  'am',\n",
              "  'scheduled',\n",
              "  'for',\n",
              "  'the',\n",
              "  'morning',\n",
              "  ',',\n",
              "  '2',\n",
              "  'days',\n",
              "  'after',\n",
              "  'the',\n",
              "  'fact',\n",
              "  ',',\n",
              "  'yes..not',\n",
              "  'sure',\n",
              "  'why',\n",
              "  'my',\n",
              "  'evening',\n",
              "  'flight',\n",
              "  'was',\n",
              "  'the',\n",
              "  'only',\n",
              "  'one',\n",
              "  'Cancelled',\n",
              "  'Flightled'],\n",
              " 'negative')"
            ]
          },
          "metadata": {
            "tags": []
          },
          "execution_count": 22
        }
      ]
    },
    {
      "cell_type": "code",
      "metadata": {
        "id": "fGln8ZVLrg7T"
      },
      "source": [
        " from nltk import pos_tag"
      ],
      "execution_count": 27,
      "outputs": []
    },
    {
      "cell_type": "code",
      "metadata": {
        "id": "RtIaTpv1r3xq"
      },
      "source": [
        "from nltk.stem import WordNetLemmatizer\n",
        "lemmetizer=WordNetLemmatizer()"
      ],
      "execution_count": 29,
      "outputs": []
    },
    {
      "cell_type": "code",
      "metadata": {
        "id": "PJN1bHMGpzWF"
      },
      "source": [
        "from nltk.corpus import stopwords\n",
        "stops=set(stopwords.words('english'))\n",
        "import string\n",
        "stops.update(list(string.punctuation))"
      ],
      "execution_count": 23,
      "outputs": []
    },
    {
      "cell_type": "code",
      "metadata": {
        "id": "RYP60T9Iq1Q5"
      },
      "source": [
        "from nltk.corpus import wordnet\n",
        "\n",
        "def get_simple_pos(tag):\n",
        "  if tag.startswith('J'):\n",
        "    return wordnet.ADJ\n",
        "  if tag.startswith('V'):\n",
        "    return wordnet.VERB\n",
        "  if tag.startswith('N'):\n",
        "    return wordnet.NOUN\n",
        "  if tag.startswith('R'):\n",
        "    return wordnet.ADV\n",
        "  return wordnet.NOUN"
      ],
      "execution_count": 24,
      "outputs": []
    },
    {
      "cell_type": "code",
      "metadata": {
        "id": "CEc-TAeUq9bC"
      },
      "source": [
        "def clean(words):\n",
        "  output_words=[]\n",
        "  for w in words:\n",
        "    if w.lower() not in stops:\n",
        "      pos=pos_tag([w])\n",
        "      clean_word=lemmetizer.lemmatize(w,pos=get_simple_pos(pos[0][1]))\n",
        "      output_words.append(clean_word.lower())\n",
        "  return output_words"
      ],
      "execution_count": 25,
      "outputs": []
    },
    {
      "cell_type": "code",
      "metadata": {
        "id": "XEbDkPq-rENu"
      },
      "source": [
        "tweets=[(clean(doc),category) for doc, category in tweets]"
      ],
      "execution_count": 30,
      "outputs": []
    },
    {
      "cell_type": "code",
      "metadata": {
        "colab": {
          "base_uri": "https://localhost:8080/"
        },
        "id": "3CNgzlwLrQZ9",
        "outputId": "160e2d75-b08b-4ef9-c629-9e1d95d7f63d"
      },
      "source": [
        "tweets[:5]"
      ],
      "execution_count": 31,
      "outputs": [
        {
          "output_type": "execute_result",
          "data": {
            "text/plain": [
              "[(['southwestair',\n",
              "   'schedule',\n",
              "   'morning',\n",
              "   '2',\n",
              "   'day',\n",
              "   'fact',\n",
              "   'yes..not',\n",
              "   'sure',\n",
              "   'even',\n",
              "   'flight',\n",
              "   'one',\n",
              "   'cancelled',\n",
              "   'flightled'],\n",
              "  'negative'),\n",
              " (['southwestair',\n",
              "   'see',\n",
              "   'worker',\n",
              "   'time',\n",
              "   'time',\n",
              "   'go',\n",
              "   'beyond',\n",
              "   'love',\n",
              "   'fly',\n",
              "   'guy',\n",
              "   'thank'],\n",
              "  'positive'),\n",
              " (['united',\n",
              "   'flew',\n",
              "   'ord',\n",
              "   'miami',\n",
              "   'back',\n",
              "   'great',\n",
              "   'crew',\n",
              "   'service',\n",
              "   'leg',\n",
              "   'thanks'],\n",
              "  'positive'),\n",
              " (['southwestair', 'dultch97', \"'s\", 'horse', 'radish', '😤🐴'], 'negative'),\n",
              " (['united',\n",
              "   'flight',\n",
              "   'ord',\n",
              "   'delayed',\n",
              "   'air',\n",
              "   'force',\n",
              "   'one',\n",
              "   'last',\n",
              "   'flight',\n",
              "   'sbn',\n",
              "   '8:20',\n",
              "   '5',\n",
              "   'min',\n",
              "   'land'],\n",
              "  'negative')]"
            ]
          },
          "metadata": {
            "tags": []
          },
          "execution_count": 31
        }
      ]
    },
    {
      "cell_type": "code",
      "metadata": {
        "colab": {
          "base_uri": "https://localhost:8080/"
        },
        "id": "cgJD0PGUsBNE",
        "outputId": "0571ddea-6128-4450-d442-0c98fd6f326e"
      },
      "source": [
        "len(tweets)"
      ],
      "execution_count": 32,
      "outputs": [
        {
          "output_type": "execute_result",
          "data": {
            "text/plain": [
              "10980"
            ]
          },
          "metadata": {
            "tags": []
          },
          "execution_count": 32
        }
      ]
    },
    {
      "cell_type": "code",
      "metadata": {
        "id": "m_H5ltUPuPlc"
      },
      "source": [
        "training_tweets=tweets[:7500]\n",
        "testing_tweets=tweets[7500:]"
      ],
      "execution_count": 33,
      "outputs": []
    },
    {
      "cell_type": "code",
      "metadata": {
        "id": "6qsO9XYMuZkS"
      },
      "source": [
        "all_words=[]\n",
        "for twee in training_tweets:\n",
        "  all_words+=twee[0]"
      ],
      "execution_count": 34,
      "outputs": []
    },
    {
      "cell_type": "code",
      "metadata": {
        "id": "vBgC9bbmugAY"
      },
      "source": [
        "# all_words"
      ],
      "execution_count": 36,
      "outputs": []
    },
    {
      "cell_type": "code",
      "metadata": {
        "id": "8Me2jJHtui3A"
      },
      "source": [
        "freq=nltk.FreqDist(all_words)\n",
        "common=freq.most_common(3000)\n",
        "\n",
        "features=[i[0] for i in common]"
      ],
      "execution_count": 37,
      "outputs": []
    },
    {
      "cell_type": "code",
      "metadata": {
        "id": "-OVe11FFvm7e"
      },
      "source": [
        "def get_feature_dict(words):\n",
        "  current_features={}\n",
        "  words_set=set(words)\n",
        "  for w in features:\n",
        "    current_features[w]=w in words_set\n",
        "  return current_features"
      ],
      "execution_count": 38,
      "outputs": []
    },
    {
      "cell_type": "code",
      "metadata": {
        "id": "aKxBpjJmvxvn"
      },
      "source": [
        "training_data=[(get_feature_dict(doc),category) for doc, category in training_tweets]"
      ],
      "execution_count": 39,
      "outputs": []
    },
    {
      "cell_type": "code",
      "metadata": {
        "id": "Y6zduICUv2Ai"
      },
      "source": [
        "testing_data=[(get_feature_dict(doc),category) for doc, category in testing_tweets]"
      ],
      "execution_count": 40,
      "outputs": []
    },
    {
      "cell_type": "code",
      "metadata": {
        "id": "sLHy_kedv61x"
      },
      "source": [
        "from nltk import NaiveBayesClassifier"
      ],
      "execution_count": 41,
      "outputs": []
    },
    {
      "cell_type": "code",
      "metadata": {
        "id": "hk0L9F3iv9dz"
      },
      "source": [
        "classifier=NaiveBayesClassifier.train(training_data)"
      ],
      "execution_count": 42,
      "outputs": []
    },
    {
      "cell_type": "code",
      "metadata": {
        "colab": {
          "base_uri": "https://localhost:8080/"
        },
        "id": "rJpPe663v_Py",
        "outputId": "e178e7f0-aae3-4937-8681-66a1368c21b4"
      },
      "source": [
        "nltk.classify.accuracy(classifier, testing_data)"
      ],
      "execution_count": 44,
      "outputs": [
        {
          "output_type": "execute_result",
          "data": {
            "text/plain": [
              "0.7793103448275862"
            ]
          },
          "metadata": {
            "tags": []
          },
          "execution_count": 44
        }
      ]
    },
    {
      "cell_type": "code",
      "metadata": {
        "id": "pKVFk9VrxoIN"
      },
      "source": [
        ""
      ],
      "execution_count": null,
      "outputs": []
    }
  ]
}